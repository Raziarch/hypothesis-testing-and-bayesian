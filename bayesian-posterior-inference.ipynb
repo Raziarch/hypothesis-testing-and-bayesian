{
 "cells": [
  {
   "cell_type": "code",
   "execution_count": 44,
   "metadata": {},
   "outputs": [],
   "source": [
    "from scipy import random"
   ]
  },
  {
   "cell_type": "markdown",
   "metadata": {},
   "source": [
    "# Bayesian Posterior Inference\n",
    "\n",
    "In the last lecture, we performed a hypothesis test to try to identify a significant effect on sales in a coffee shop based on running a happy-hour promotion. Let's summarize those results again:\n",
    "1. Over a one week period of each treatment, the happy-hour trial saw an average increase in daily sales of \\$80.92\n",
    "2. We formulated a two-sided paired t-test with an error value of $\\alpha = 0.05$. \n",
    "3. The test produced a p-value of $0.09$, so we failed to reject the null hypothesis. \n",
    "\n",
    "At this point, we concluded that we didn't have significant evidence against the null hypothesis to adopt the claim that there is a significant effect on sales based on running the promotion. This may raise any number of questions:\n",
    "\n",
    "1. What motivated the choice of $\\alpha = 0.05$? After all, if we set $\\alpha = 0.1$, we would have rejected the null hypothesis. \n",
    "2. What if the experiment gave us an average daily sales difference of only \\$10, but a p-value of 0.049? Does the result with more statistical significance also carry more real-world significance?\n",
    "3. Let's say that the over the last 3 months, raising prices by 25 cents at another store location increased sales by an average of $130.24. Was our investigation at the new store informed by our prior beliefs? Moreover, do the results of the experiment affect those beliefs?\n",
    "\n",
    "These questions motivate another line of statistical analysis: **Bayesian Inference**.\n",
    "\n",
    "At its core, Bayesian Inference gives us a host of methods for applying and updating previous beliefs when performing statistical analysis. In other words, it is a method for answering the question:\n",
    "\n"
   ]
  },
  {
   "cell_type": "markdown",
   "metadata": {},
   "source": [
    "### How do we adjust our beliefs based on new observations *given our previous beliefs? *\n",
    "\n",
    "Bayesian statistics answers this question with a mathematical formula known as Bayes' Rule or Bayes' Theorem. In this notation, $X$ represents our observed data, and $\\theta$ parametrizes a model giving the data's underlying distribution. We don't know $\\theta$, but based on prior beliefs or results, we think $\\theta$ falls along its own distribution, parametrized by $\\alpha$. \n",
    "\n",
    "\n",
    "Shown below is the *model form* of Bayes' Rule.  \n",
    "\n",
    "$$ \\text{P}(\\theta \\: | \\: X, \\alpha) = \\frac {\\text{P} (X|\\theta, \\alpha)  \\text{P}(\\theta|\\alpha)}{\\text{P}(X|\\alpha)}$$\n",
    "\n",
    "The terms in this formula have specific names and interpretations:\n",
    "- $\\text{P}(\\theta | \\alpha)$: The **prior** distribution. This is a distribution of $\\theta$ values with hyperparameter $\\alpha$. By describing our prior beliefs about $\\theta$ as a distribution, we encode not only our best point estimate for $\\theta$, but also the uncertainty inherent in our estimate.\n",
    "- $\\text{P}(X|\\theta)$: The **marginal likelihood**. This is the likelihood of $X$ after considering all possible values of $\\theta$.\n",
    "- $\\text{P} (\\theta \\: | \\: X)$: The **posterior** distribution. This is a new distribution for $\\theta$ after considering our observed data.\n",
    "\n",
    "\n",
    "Before getting into a detailed analysis and application of this formula, let's revisit the idea of **conditional probability**, which is denoted by the presence of the symbol \"|\" that appears in the probability statements above."
   ]
  },
  {
   "cell_type": "markdown",
   "metadata": {},
   "source": [
    "## Conditional Probability"
   ]
  },
  {
   "cell_type": "markdown",
   "metadata": {},
   "source": [
    "Suppose 40% of customers of a popular coffee shop order iced drinks, and 30% order pastries. Suppose that 15% of people order both iced drinks and pastries.\n",
    "\n",
    "We're interested in the following questions:\n",
    "\n",
    "- What is the probability that a customer ordered an iced drink given that they ordered a pastry?\n",
    "- What is the probability that a customer ordered a pastry given that they ordered an iced drink?\n",
    "\n",
    "The answers to these questions rely on **conditional probability**, the probability of an event occurring *given* knowledge that another event has already occurred. \n",
    "\n",
    "\n",
    "### Notation\n",
    "- Let A denote the event that a customer orders an iced drink.\n",
    "- Let B denote the event that a customer orders a pastry.\n",
    "- Let AB denote the event that someone orders both an iced drink and a pastry. \n",
    "    - This is often written as $A \\cap B$, where the symbol $\\cap$ means the **intersection** of A and B.\n",
    "\n",
    "For any of these events, let P(event) denote the probability the event occurs. From above, we see that $P(A)=0.30$, meaning there is a 40% chance that a customer orders an iced drink.\n",
    "\n",
    "From these definitions we can define and formulate the probability that A has occurred given that B has already occurred, and vice versa.\n",
    "\n",
    "- Let P(A|B) denote the probability that A will occur if B has already occurred.\n",
    "\n",
    "Intuitively, we can think of computing the probability $P(A|B)$ in the following steps:\n",
    "1. P(B) tells us that 40 out of 100 customers will order a pastry.\n",
    "2. P(AB) tells us that 15 out of 100 customers will order a pastry and an iced drink.\n",
    "3. This means that 15 out of the 40 customers who ordered a pastry also ordered an iced drink. \n",
    " - As a result, there is a $15/40 = 0.375$ probability that a customer will order and iced drink if they also order a pastry.\n",
    "\n",
    "\n",
    "### Computing Conditional Probabilities\n",
    "Formally, the conditional probability is computed as follows:\n",
    "\n",
    "$$ \\begin{align} P(A|B) = \\frac{P(AB)}{P(B)} &\\:  &\\:  &  P(B|A) = \\frac{P(AB)}{P(A)} \\end{align}$$\n",
    "\n",
    "\n",
    "\n",
    "Shown below is a visualization of conditional probability. In the top plot, individual probabilities of event A and B are shown, as well as the probability that both A and B occur. The purple region represents the probability of the event AB occuring, while the red and blue regions correspond to A and B, respectively.\n",
    "\n",
    "In the second and third plots, we see the resulting conditional probabilities after conditioning on either A or B. \n",
    "\n",
    "In plot 2, for example, we have reduced the event space to only consider cases for which event A has occurred. As a result, the only remaining cases where B occurs are those for which both A and B occur. The probability og B given A, then, can be seen as the proportion of the width of the colored region to the width of the entire plot."
   ]
  },
  {
   "cell_type": "code",
   "execution_count": 47,
   "metadata": {
    "scrolled": false
   },
   "outputs": [
    {
     "data": {
      "application/vnd.jupyter.widget-view+json": {
       "model_id": "c59840e20f6a469e84ee42f231239643",
       "version_major": 2,
       "version_minor": 0
      },
      "text/html": [
       "<p>Failed to display Jupyter Widget of type <code>HBox</code>.</p>\n",
       "<p>\n",
       "  If you're reading this message in the Jupyter Notebook or JupyterLab Notebook, it may mean\n",
       "  that the widgets JavaScript is still loading. If this message persists, it\n",
       "  likely means that the widgets JavaScript library is either not installed or\n",
       "  not enabled. See the <a href=\"https://ipywidgets.readthedocs.io/en/stable/user_install.html\">Jupyter\n",
       "  Widgets Documentation</a> for setup instructions.\n",
       "</p>\n",
       "<p>\n",
       "  If you're reading this message in another frontend (for example, a static\n",
       "  rendering on GitHub or <a href=\"https://nbviewer.jupyter.org/\">NBViewer</a>),\n",
       "  it may mean that your frontend doesn't currently support widgets.\n",
       "</p>\n"
      ],
      "text/plain": [
       "HBox(children=(Output(layout=Layout(border='2px solid ', width='200px')), VBox(children=(HBox(children=(FloatSlider(value=0.4, continuous_update=False, description='P(A)', layout=Layout(width='300px'), max=0.5, min=0.2, step=0.01), FloatSlider(value=0.25, continuous_update=False, description='P(B)', layout=Layout(width='300px'), max=0.5, min=0.2, step=0.01), FloatSlider(value=0.2, continuous_update=False, description='P(AB)', layout=Layout(width='300px'), max=0.2, step=0.01))), Output()))))"
      ]
     },
     "metadata": {},
     "output_type": "display_data"
    }
   ],
   "source": [
    "show_cond_plot()"
   ]
  },
  {
   "cell_type": "markdown",
   "metadata": {},
   "source": []
  },
  {
   "cell_type": "markdown",
   "metadata": {},
   "source": [
    "# Priors and Posteriors\n",
    "\n",
    "In Bayesian inference, we use the following form of Bayes' Rule:\n",
    "\n",
    "$$ \\text{P}(\\theta \\: | \\: X, \\alpha) = \\frac {\\text{P} (X|\\theta, \\alpha)  \\text{P}(\\theta|\\alpha)}{\\text{P}(X|\\alpha)}$$\n",
    "\n",
    "In this formula, the terms $\\text{P}(\\theta \\: | X,\\alpha)$ and $\\text{P}(\\theta \\: | \\alpha)$ are **density functions**.\n",
    "\n",
    "The term $\\text P(X|\\theta)$ is a **likelihood function**, which is very similar to a density function with a slight difference:\n",
    "- A density function considers distribution parameters to be fixed, and takes data as input\n",
    "- A likelihood function has the same functional form, but considers data to be fixed. Likelihood functions, then, are used to make claims about the ranges of values we expect parameters to be in."
   ]
  },
  {
   "cell_type": "markdown",
   "metadata": {},
   "source": [
    "# Bayesian Inference: An Example\n",
    "\n",
    "If you flip a coin 100 times, you would expect about half of those tosses to land on heads. What if we observed 67 tosses that landed on heads? This is certainly possible by chance, but we might start wondering if the coin is really a fair coin.\n",
    "\n",
    "We can use Bayesian inference to start with an assumption that the probability of heads is around 0.5, then use our observed outomes (67 out of 100 tosses are heads) to update our beliefs in the form of a posterior distribution.\n",
    "\n",
    "1. Choose a likelihood function:\n",
    "    - We use the **Binomial distribution** to model the coin-flipping process. The binomial distribution describes multiple or repeated trials from a yes/no (heads/tails) experiment. This distribution has a parameter $n$ specifying the number of trials, and a parameter $p$, which gives the probability of observing heads. \n",
    "    - The plot below shows the effect of varying $p$ for a binomial(20, p) distribution.\n"
   ]
  },
  {
   "cell_type": "code",
   "execution_count": 107,
   "metadata": {},
   "outputs": [
    {
     "data": {
      "application/vnd.jupyter.widget-view+json": {
       "model_id": "e19bc3b3df984cf299e85c30b019b7a0",
       "version_major": 2,
       "version_minor": 0
      },
      "text/html": [
       "<p>Failed to display Jupyter Widget of type <code>VBox</code>.</p>\n",
       "<p>\n",
       "  If you're reading this message in the Jupyter Notebook or JupyterLab Notebook, it may mean\n",
       "  that the widgets JavaScript is still loading. If this message persists, it\n",
       "  likely means that the widgets JavaScript library is either not installed or\n",
       "  not enabled. See the <a href=\"https://ipywidgets.readthedocs.io/en/stable/user_install.html\">Jupyter\n",
       "  Widgets Documentation</a> for setup instructions.\n",
       "</p>\n",
       "<p>\n",
       "  If you're reading this message in another frontend (for example, a static\n",
       "  rendering on GitHub or <a href=\"https://nbviewer.jupyter.org/\">NBViewer</a>),\n",
       "  it may mean that your frontend doesn't currently support widgets.\n",
       "</p>\n"
      ],
      "text/plain": [
       "VBox(children=(Button(description='Generate sample, p=0.3', layout=Layout(width='300px'), style=ButtonStyle()), Button(description='Generate sample, p=0.5', layout=Layout(width='300px'), style=ButtonStyle()), Button(description='Generate sample, p=0.8', layout=Layout(width='300px'), style=ButtonStyle())))"
      ]
     },
     "metadata": {},
     "output_type": "display_data"
    },
    {
     "data": {
      "application/vnd.jupyter.widget-view+json": {
       "model_id": "f3cc902266f44e30a297bcffc7f30d01",
       "version_major": 2,
       "version_minor": 0
      },
      "text/html": [
       "<p>Failed to display Jupyter Widget of type <code>Output</code>.</p>\n",
       "<p>\n",
       "  If you're reading this message in the Jupyter Notebook or JupyterLab Notebook, it may mean\n",
       "  that the widgets JavaScript is still loading. If this message persists, it\n",
       "  likely means that the widgets JavaScript library is either not installed or\n",
       "  not enabled. See the <a href=\"https://ipywidgets.readthedocs.io/en/stable/user_install.html\">Jupyter\n",
       "  Widgets Documentation</a> for setup instructions.\n",
       "</p>\n",
       "<p>\n",
       "  If you're reading this message in another frontend (for example, a static\n",
       "  rendering on GitHub or <a href=\"https://nbviewer.jupyter.org/\">NBViewer</a>),\n",
       "  it may mean that your frontend doesn't currently support widgets.\n",
       "</p>\n"
      ],
      "text/plain": [
       "Output(layout=Layout(border='1px solid white'), outputs=({'output_type': 'display_data', 'data': {'text/plain': '<Figure size 360x360 with 1 Axes>', 'image/png': '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\\n'}, 'metadata': {}},))"
      ]
     },
     "metadata": {},
     "output_type": "display_data"
    }
   ],
   "source": [
    "display(VBox([button3, button5, button8]))\n",
    "display(binom_output)"
   ]
  },
  {
   "cell_type": "markdown",
   "metadata": {},
   "source": [
    "2. Choose a prior:\n",
    "    - We use the **Beta distribution** to model our prior beliefs in the coin-flip parameter $p$. The beta distribution takes on values between 0 and 1, and has two parameters, $\\alpha > 0 $ and $\\beta > 0$, which modify the shape of the distribution. \n",
    "    - Because this is our prior, $\\alpha$ and $\\beta$ are called **hyperparameters**, because they modify a distribution of the parameters of the data's distribution.\n",
    "    - We will start by specifying  $\\alpha = 10$ and $\\beta = 10$, which will center the distribution around $0.5$. \n",
    "    - The plot below shows the resulting beta distribution based on values of $\\alpha$ and $\\beta$."
   ]
  },
  {
   "cell_type": "code",
   "execution_count": 108,
   "metadata": {},
   "outputs": [
    {
     "data": {
      "application/vnd.jupyter.widget-view+json": {
       "model_id": "d4e4abdaecd44909917a083fa819e915",
       "version_major": 2,
       "version_minor": 0
      },
      "text/html": [
       "<p>Failed to display Jupyter Widget of type <code>HBox</code>.</p>\n",
       "<p>\n",
       "  If you're reading this message in the Jupyter Notebook or JupyterLab Notebook, it may mean\n",
       "  that the widgets JavaScript is still loading. If this message persists, it\n",
       "  likely means that the widgets JavaScript library is either not installed or\n",
       "  not enabled. See the <a href=\"https://ipywidgets.readthedocs.io/en/stable/user_install.html\">Jupyter\n",
       "  Widgets Documentation</a> for setup instructions.\n",
       "</p>\n",
       "<p>\n",
       "  If you're reading this message in another frontend (for example, a static\n",
       "  rendering on GitHub or <a href=\"https://nbviewer.jupyter.org/\">NBViewer</a>),\n",
       "  it may mean that your frontend doesn't currently support widgets.\n",
       "</p>\n"
      ],
      "text/plain": [
       "HBox(children=(VBox(children=(HBox(children=(IntSlider(value=2, description='alpha', layout=Layout(width='300px'), min=1), IntSlider(value=2, description='beta', layout=Layout(width='300px'), min=1))), Output(outputs=({'output_type': 'display_data', 'data': {'text/plain': '<Figure size 432x288 with 1 Axes>', 'image/png': 'iVBORw0KGgoAAAANSUhEUgAAAW0AAAD8CAYAAAC8TPVwAAAABHNCSVQICAgIfAhkiAAAAAlwSFlzAAALEgAACxIB0t1+/AAAADl0RVh0U29mdHdhcmUAbWF0cGxvdGxpYiB2ZXJzaW9uIDIuMi4yLCBodHRwOi8vbWF0cGxvdGxpYi5vcmcvhp/UCwAAIABJREFUeJzt3Xd0lFXCBvDnJpPee0jvCSFAgBBQpC9FFMGCgqKuBRVBd1fFXlZF13XtFURWRASxoCCIolJFEggtQEhCeiGkkT6pM+/3R6K4fiKBzMydd+b5neM5gUzeebwnebh5y71CURQQEZE62MgOQEREvcfSJiJSEZY2EZGKsLSJiFSEpU1EpCIsbSIiFWFpExGpCEubiEhFWNpERCqi6csX+/r6KhEREQaKQkRkHfbv31+jKIrfhXxtn0o7IiICGRkZfTkEEZHVEUIUX+jX8vQIEZGKsLSJiFSEpU1EpCIsbSIiFWFpExGpCEubiEhFWNpERCrC0iYiUhGWNhGRirC0iYhUhKVNRKQiLG0iIhVhaRMRqQhLm4hIRVjaREQqwtImIlIRljYRkYqwtImIVISlTUSkIixtIiIVYWkTEakIS5uISEVY2kREKsLSJiJSEZY2EZGKsLSJiFSEpU1EpCIsbSIiFWFpExGpCEubiEhFWNpERCrC0iYiUhGWNhGRimhkByAyhPYuHVraddB2dEFRzvy9EICzvQauDhrYazhHIfVjaZPZa2rrREF1C/Krm1FU04KKhjZUNrWjsqEN1c3taGrrRKdOOedx7G1t4OaogZ+bAwLcHRHg7oBADydE+bog2s8VUX4ucHHgjwSZN36Hklk53dKBw2X1yCxtQGZZPY6ebEBlY/uvn7cRgJ+bAwLdHRHm44yUCC+4OdrBzVEDF3tbONtrIMSZ4ykK0NLRhZb2LjS369DY1omqxnZUNrbheEUjqpvb/2dm3s/DEQOCPJAc6oFBIZ4YFOIBT2d7E44A0Z9jaZNUDdpOpBXWYk9+LXbn1eBEVTOA7tMa0X6uGBXti9gAN0T7uSDa3xVh3s6wszXcaY72Lh1KarXIr25GfnULTlQ2IbO8AT8cr/z1NQmBbrg42hejYnyQGukNN0c7g70/0fkSinLuXyvPJiUlRcnIyDBgHLIGJbVabMk6hS3HKpFRfBp6BXC0s8HwCG9cFO2DIaFeSAp2l1qODa2dOFregIMlddhTUIuMojq0d+lhayOQGuGNyQMCMCkxACFeztIyknoJIfYripJyQV/L0iZTKKvTYv2hk/j68Elkn2oC0D2DnZQYgEtifJEc5gkHja3klGfX1qnDgZI67DpRgx+yKn/9jWBAkDuuGByEGcnBCPRwlJyS1IKlTWapub0LmzJPYt2BcqQXngYADI/wwtSkfpicGIBQb/XOUgtrWvB91il8c+QUDpXWQwhgVLQvrhwSjGkD+8HJ3nz/ASL5WNpkVnIrm7AqrRjrDpSjub0LUb4uuHJIMGYOCVZ1UZ9NYU0LvjxYji8PlqH0dCvcHTWYlRKKG0aEIcrPVXY8MkMsbZJOr1fwY3YV3t9VgPTC07C3tcHlg/rhhpFhGBrmBfHbWzoslKIo2Ft4Gh+lFePbo6fQpVcwOtYXt10SibFxflYxBtQ7LG2Spkunx9eZJ/Hu9nzkVjYj2NMJc0eG49qUEPi4OsiOJ01VUxvW7i3FqvRiVDa2o38/d8wfF41pSYHQGPDuF1InljaZXHuXDp9mlGHpjnyU1bUiLsAV88dF4/JBQQa9JU/tOrr0+OpQOZbuyEd+dQvCvJ2xcEIMrhoSzPK2YixtMhmdXsH6Q+V45ftclNW1YkiYJ+4eF4OJCf6wseGv/2ej1yv4/ngl3t6Wh8yyBkT5ueD+SfG4NCmQ42aFWNpkdIqiYGt2Ff7zXQ6yTzVhQJA7HpyagDGxvjxXex4URcF3xyrx8pYcnKhqRlKwOxZNScDYOD/Z0ciEWNpkVMcrGvHUhmPYW3gaET7OuH9yPC4b2I8zxD745TeWV3/IRenpVoyL98MTlycimnebWAWWNhlFg7YTr3yfg4/SiuHhZIf7JsVhdmoYz1kbUEeXHiv3FOG1H06gvUuHW0ZF4p4JMXxU3sKxtMmg9HoFn+0vxb+/zUG9tgNzR4bjvklxXDjJiKqb2vGf77LxaUYZfF0d8MilCbhqaDBPPVkoljYZTH51Mx76PBMZxXVICffC0zMGYECQh+xYVuNwaT2e2nAMh0rrMTrWF89fOdAiH0iydixt6rMunR7LdhXi1R9y4WRni8cv649rhoVwpieBXq/go7RivPhtNhQAD0yOx80XR8CW1xAsBkub+uR4RSMe/DwTR8obMHVAIJ6ZOQD+blz8SLby+lY89uURbM+pRnKoJ16aNRgx/rxQaQn6Utq8omTF9HoF727PxxVv/YSKhla8c8NQLLlxGAvbTAR7OuGDvw7Ha9clo7i2BZe/uQsf7SlCXyZapH7cBMFKVTS04r61h7GnoBaXJgXiuSsHwtuFFxrNjRACM4cE4+JoHyz6PBNPrD+GrdlVePGawfBzs95lAqwZZ9pW6NujFZj62i4cLqvHi1cPwjs3DGVhmzl/d0esuGU4/jk9EbvzazH1tZ34Iavy3F9IFoelbUXaOnV4ZN0R3LXqAMJ9nLHp3tG4dngoLzaqhBACfx0ViY33XAI/NwfcvjIDizdmoVOnlx2NTIinR6xE6Wkt5n+8H0fLG3HX2GjcNykO9hr+m61GcQFuWL9wFJ7bdBzv/1SIQ6X1eOv6odw5x0rwp9YKbM2uxGVv7EJJrRbLb07Bw5cmsLBVzkFji2dmJOH12cnIqmjEZW/swu68GtmxyAT4k2vBdHoFr2zJwa0rMhDi5YyN94zGxP4BsmORAc1IDsaGhaPg5WKPucvT8dbWE7y7xMKxtC1UU1snbv9wH97YmodZw0Kw7u6LEebDJ+ssUYy/G9YvGIXpg4Lw0pZc3LPmIFo7dLJjkZHwnLYFKqnV4rYP96GwpgWLZyZh7shw2ZHIyFwcNHh9djL693PHi99lo7hWi2U3pfA8twXiTNvCpBfUYsbbP6GqqR0rb01lYVsRIQTmj4vGshtTUFDdjOlv/YSDJXWyY5GBsbQtyKcZpZi7PB1ezvb4asEoXBzjKzsSSfCXxACsu3sUHDQ2uO69NGw4fFJ2JDIglrYFUBQFL2/JwYOfZ2JEpA++vHsUIn1dZMciieID3bBh4SVIDvHEvWsOYtnOAl6gtBAsbZXr0unx0BeZeHNrHq5NCcEHtwyHhzMX0CfA28UeK29LxWUD++G5b47jmY1Z0OlZ3GrHC5Eqpu3owsLVB7E1uwr3TojBPybF8elG+h+OdrZ4c84QBLg74r+7C1HZ2IZXrk2Go52t7Gh0gVjaKnW6pQO3rNiHI2X1vEOE/pSNjcCT0xMR5OmIxZuOo6ZpL5bdnAIPJ/5GpkY8PaJCFQ2tuGbJz8iuaMS7c4exsKlXbh8dhTfnDMHB0jrMeS8Ntc3tsiPRBWBpq0xJrRazluxBdWM7PrptBKYMCJQdiVRk+uAgLLspBfnVzbh26R6camiTHYnOE0tbRfKqmjFr6c9obu/Cx/NGIDXSW3YkUqFx8f5YeWsqKhvbMWvpzyg9rZUdic4DS1sljlc04rqle6DTK/jkjpEYFOIpOxKp2IgoH3x8+wg0tnbhmiU/I6+qSXYk6iWWtgocLq3H7PfSYGdrg7V3XoSEQHfZkcgCDA71xNo7R0KnB65bmobcSha3GrC0zdyRsgbMXZ4OdycNPrvrIkT7cWNXMpyEQHd8eudI2NoIXL8sDSdY3GaPpW3Gjpb3FLajHdbMG4lQb67SR4YX5eeKNXeMhBACc5alI6+qWXYk+hMsbTN1vKIRNy5Ph4u9LT65YyRCvFjYZDzRfq5YM28EAGDOsjTkV7O4zRVL2wzlVjbhhvfT4aCxxZo7OMMm04jxd8OaeSOgKArmvJeGAha3WWJpm5mC6mZcvywdGhuB1fNGINyHCz+R6cQGuGH1vJHQ6RXMfT8d5fWtsiPR77C0zcjJ+lbcuHwvFEXB6nkjEcWLjiRBXIAbPrw1FU1tXbjx/XTU8MlJs8LSNhOnWzpw4/J0NLZ24sNbUxHjz8ImeZKCPfDfW4bjZEMrblq+Fw2tnbIjUQ+Wthlobu/CLR/sRVldK5bdnIKkYA/ZkYgwPMIbS+YOw4mqJty2Yh/3nTQTLG3J2rt0uPOjDBw92Yi3rh+KkVE+siMR/WpcvD9evS4Z+0vqcOeq/ejo0suOZPVY2hLp9Ar+tuYQdufV4sWrB2FSYoDsSET/z+WDgvCvKwdiZ241HvoikzvgSMb1tCVRFAWPf3UU3x47hScuT8TVw0JkRyI6q9mpYahqascr3+ciyNMRi6YkyI5ktVjakry7Ix9r9pZg/rho3HZJpOw4ROd0z4QYnKxvxdvb8hHk6YQbRnAddxlY2hJsOHwSL36bgysGB2HR5HjZcYh6RQiBxTOTUNnYhie+OopAd0dM7M9TeqbGc9omtq/oNB749DBSI7zxn1mDYGPDPR1JPTS2Nnjr+qEYEOSBhasP4nBpvexIVoelbUIF1c2YtzIDIV5OWHrjMDhouLkqqY+LgwbL/5oCH1d73LpiH4prW2RHsiosbROpbW7HLSv2wVYIrLglFV4u9rIjEV0wfzdHfHhrKnSKgltX7OPDNybE0jaBtk4d5q3MwKmGNiy7OQVhPlwAitQv2s8V794wDMW1Wtyz5iC6dLyH2xRY2kamKAoe/fIIDpTU47XrkjE0zEt2JCKDuSjaB8/OTMLO3Go8/0227DhWgXePGNnynwqx7kA5/vGXOFw6sJ/sOEQGNyc1DLmVTfjv7kLEBbhidmqY7EgWjTNtI9qeU4XnvzmOaQMDcc+EGNlxiIzmsWn9MSbOD49/dRRpBbWy41g0lraR5Fc34541BxEf6I6XZg3mrX1k0TS2NnhzzhCE+Thj/qr9KKnVyo5ksVjaRtDQ2ol5KzNgb2uDZTcNg7M9z0KR5fNwssPym4dDrwC3r9yHlvYu2ZEsEkvbwHR6BfeuOYiSWi3enTuMezuSVYn0dcE7NwxFXlUzHvyci0sZA0vbwF7ekoMdudV4dmYSUiO9ZcchMrlRMb54cGoCNh2pwPu7CmXHsTgsbQPacuwU3tmejzmpoZjDK+hkxe4cE4VLkwLxwrfZ2JPPC5OGxNI2kKKaFtz/2WEMDPbAU9MHyI5DJJUQAv+ZNRgRPs5YuPoAKhq4QbChsLQNoLVDh7tW7YetjcA7NwyFox3XFCFyddBg6Y0paOvUYf6qA2jv4nZlhsDS7iNFUfDYV0eQU9mE165LRqg3LzwS/SLG3xUvzRqMQ6X1eObrLNlxLAJLu49W7y3BugPl+NvEWIyL95cdh8jsXDqwH+4cG4WP00vwxf4y2XFUj6XdB4dL6/H0hiyMjfPDvRNiZcchMluLJsdjRKQ3Hv/qKPKqmmXHUTWW9gVqaO3EgtUH4OfmgNeuS+YTj0R/QmNrgzfmDIGzvS0Wrj6Atk6e375QLO0LoCgKHv4iE6ca2vDm9UO4NjZRLwS4O+KV65KRfaoJT399THYc1WJpX4DVe0uw+egpPDAlnkutEp2HsXF+mD8uGmv2lmL9oXLZcVSJpX2esk814pmvszAmzg93jI6SHYdIde6fFIeUcC88uu4ICmu4Vdn5YmmfB21HFxauPgh3Jzu8ci1X7iO6EL+c37bT2GDBxzy/fb5Y2ufh6Q1ZyK9uxmvXJcPX1UF2HCLVCvJ0wivXDkZWRSOe/+a47DiqwtLupfWHyrE2oxQLxsVgVIyv7DhEqjchIQC3XRKJlXuKsTW7UnYc1WBp90LpaS0e+/IoUsK98Pe/8H5sIkN5cGo8EgLd8ODnmahuapcdRxVY2ueg0yv4x9pDEABem50MjS2HjMhQHDS2eGPOEDS2deHBzw9z/e1eYAOdw5Id+cgorsMzMwdwQwMiI4gLcMOjlyZgW041VqUVy45j9ljaf+JIWQNe/T4Xlw3qh5nJwbLjEFmsmy+OwNg4PyzedBx5VU2y45g1lvZZtHbo8Pe1B+Hr6oDnZiZBCN7eR2Qs3etvD4KLgwb3rjnEZVz/BEv7LF7YfBz51S14adZgeDrzMXUiY/N3c8S/rx6ErIpGvLIlV3Ycs8XS/gM7cqvx4Z5i3DIqApfE8vY+IlOZlBiA60eE4b1dBUgv4DZlf4Sl/Tt1LR1Y9NlhxPq74qGpCbLjEFmdx6b1R6iXMxZ9nomW9i7ZccwOS/t3nlh/FHXaDrw2O5nbhhFJ4OKgwUuzBqO0TosXNmfLjmN2WNq/sflIBTZmVuDeCbEYEOQhOw6R1UqN9MatoyLxUVoxdufVyI5jVljaPWqb2/H4V0eRFOyOu8ZFy45DZPUWTYlHlK8LHvw8E01tnbLjmA2Wdo+nNhxDY1snXpo1GHZ86pFIOkc7W7x07WBUNLRi8UYuKvULthP+97RIQqC77DhE1GNomBfuGBONtRml2JZdJTuOWbD60uZpESLz9o9JsYgLcMXD6zLRoOVpEqsv7Sd5WoTIrDlobPHyrGTUNHdg8aYs2XGks+qW+uZIBTZlVuBvE3lahMicDQzxwJ1jovDZ/jLsOlEtO45UVlva9doOPLn+KAYGe+CusTwtQmTu7p0YiyhfFzyy7gi0Hdb70I3VlvZzm46jTtuJf189iGtkE6mAo50t/nXVQJTVteJlK16bxCrb6ue8Gny2vwx3jIlCYhBPixCpxYgoH8wdGYYPdhfiUGm97DhSWF1pt3Xq8MiXRxDu44y/TeTWYURq89DUBAS4O+KhzzPR0aWXHcfkrK60X//xBIprtXj+yoFcW4RIhdwc7bB4ZhJyKpuwZEe+7DgmZ1WlnXWyEe/tLMA1w0K4ozqRik3sH4Dpg4Pw5tYTOFFpXTvdWE1p6/QKHlmXCU8nOzw2rb/sOETUR09NT4SrgwYPrzsCvd56NgS2mtJe8XMRDpc14MnpifBy4U40RGrn6+qAxy5LxP7iOnyaUSo7jslYRWmX1Wnx8pYcjIv3wxWDg2THISIDuXpoMEZEeuNfm7NR29wuO45JWHxpK4qCJ9cfAwAs5ga9RBZFCIHnrkyCtqMLz39jHRsmWHxpb8mqxNbsKtw3KQ4hXs6y4xCRgcX4u+GOMVH44kAZ9uRb/r6SFl3a2o4uPL3hGBIC3fDXiyNkxyEiI1k4Phah3k547KsjaO/SyY5jVBZd2m9uzcPJhjY8OzOJj6oTWTAne1s8c0USCqpbsGxngew4RmWxTZZX1Yz3dxXg6qEhGB7hLTsOERnZ+AR/TBsYiDe35qG4tkV2HKOxyNLuvvh4FE52tnhkWoLsOERkIk9ePgAaG4En1h+DoljmvdsWWdpfZ1bg5/xaLJqaAF9XB9lxiMhEAj0ccf/keOzMrcZ3x07JjmMUFlfaTW2dWLwxC4NCPHB9apjsOERkYjddFI6EQDc8u/E4Wjss76KkxZX2q9+fQHVzO56dkQRbG96TTWRtNLY2+OcVA1Be32qRC0pZVGkfr2jEh3uKcH1qGAaHesqOQ0SSjIzywfTBQXh3Rz5KT2tlxzEoiyntXy4+ejjZYdGUeNlxiEiyR6clwFYIPLvRsjYDtpjS3nD4JPYV1eGhqfHwdOaCUETWrp+HExZOiMGWrErszLWczYAtorS1HV14YXM2BgZ7YNawUNlxiMhM3D46EhE+zvjn18csZpcbiyjtJTsKUNHQhqemJ8KGFx+JqIeDxhZPTR+AguoWrPi5UHYcg1B9aZfVabF0Rz6uGByEFD75SES/Mz7BHxMT/PH6DydQ1dgmO06fqb60//VNNoQAHr6UTz4S0R974vJEdOoUvLBZ/cu3qrq00wpqselIBeaPjUGQp5PsOERkpiJ8XTBvTCTWHSzH/uI62XH6RLWlrdMrePrrLAR7OuHOsVGy4xCRmbt7XAz83RyweFOWqtclUW1pr91XiuMVjXh0Wn842tnKjkNEZs7FQYNFU+JxsKQeGw6flB3ngqmytBu0nXhpSw5SI70xbWCg7DhEpBJXDw3BgCB3vPhtDto61bkuiSpL+/UfT6BO24Gnpidyz0ci6jUbG4HHL0tEeX0rlv+kzlsAVVfahTUtWLmnCLOHh2JAkIfsOESkMhdF+2ByYgDe2ZaHqib13QKoutL+9+ZsOGhs8I9JcbKjEJFKPTKtPzp0eryyJVd2lPOmqtLeV3Qa3x47hbvGRsPfzVF2HCJSqUhfF9x0UQTWZpQi62Sj7DjnRTWlrSgKntt0HAHuDrh9NG/xI6K+uXdCLDyc7PDcN+q6BVA1pb3pSAUOldbj/snxcLLnLX5E1Dceznb4+8RY7M6rxdbsKtlxek0Vpd3epcO/v81GQqAbrh4aIjsOEVmIG0aGI9rPBc9tOo5OnTpWAVRFaX+0pxilp1vx2GX9uYUYERmMna0NHp3WHwU1Lfhkb4nsOL1i9qVdr+3Am1vzMCbOD6Nj/WTHISILMyHBHyMivfH6jyfQ0t4lO845mX1pv7U1D01tnXh0GlfxIyLDE0Lg4UsTUNPcgWW7CmTHOSezLu2SWi0+3FOEWcNCkRDoLjsOEVmoIWFeuDQpEMt2FqC6qV12nD9l1qX94nfZ0NjY4L7JfJCGiIxr0ZR4tHXp8dbWE7Kj/CmzLe3MsnpszKzAvNGRCHDngzREZFxRfq6YPTwUH6eXoKimRXacszLb0v7PdznwcrbDvDF8kIaITONvf4mFna0NXtqSIzvKWZllae/Oq8GuEzVYMD4Gbo52suMQkZXwd3PEvNGR2JhZgcOl9bLj/CGzK21FUfDidzkI8nDE3JHhsuMQkZWZNyYKPi72eGFztlk+3m52pf3dsUocLq3H3yfFcUcaIjI5N0c73DMhBnsKarEjt1p2nP/HrEq7S6fHS1tyEOPviquGBMuOQ0RW6voR4QjzdsYLm7Oh15vXbNusSnvdwXLkVTXjgcnx0NiaVTQisiL2Ghs8MCUe2aea8HWmee0naTbN2Napw2vf52JwqCemDAiQHYeIrNzlA/uhfz93vPp9rlktJmU2pb0qrRgnG9rw0NR47vtIRNLZ2AjcPykORbVafLG/THacX5lFaTe1deLtbXkYHeuLi6N9ZcchIgIATOzvj+RQT7zx4wm0d5nH7u1mUdrLdhWiTtuJB6dwUSgiMh9CCDwwOR4nG9qwOt08lm6VXtqnWzqwfFcBpg0MxMAQ7q5OROZlVIwPRkZ54+1tedB2yF+6VXppL92Rj9ZOHe7j7upEZIaEEFg0JR41zR1Y8XOR7DhyS7u6qR0f7inCjORgxPi7yYxCRHRWw8K9MT7eD0t3FKChtVNqFqml/e72fHTqFNw7MVZmDCKic7p/cjwaWjuxXPJGCdJK+1RDG1alF+OqIcGI9HWRFYOIqFeSgj0wbWAglv9UiNpmeRslSCvtd7bnQa/nLJuI1OO+SXFo7dRhyY58aRmklHZ5fSs+2VuKWSmhCPV2lhGBiOi8xfi7YeaQYKzcU4zKxjYpGaSU9ltb8wAACyfEyHh7IqIL9veJcejSK3h3u5zZtslLu6RWi88ySjE7NRTBnk6mfnsioj4J83HG1UODsXpviZTZtslL+82tJ2BjI3D3OM6yiUidFo6PhU6vSDm3bdLSLqxpwbqD5Zg7IhyBHtysl4jUKczHGVcNCcbq9BJUmXi2bdLSfv2HXNjZCtw1jpv1EpG6LZwQ031u28SzbZOVdn51MzYcPombLoqAvxtn2USkbuE+LlJm2yYr7be35cFeY4M7xnCWTUSW4ZfZ9pIdpntK0iSlXVzbgvWHTuKGEeHwdXUwxVsSERlduI8LrhwSjI/Ti0022zZJab+zLR+2NgJ3cpZNRBZm4XjTzraNXtqlp7X44kAZ5gwPhb87z2UTkWWJ8P3NbLvJ+LNto5f2kh35sBECd42LNvZbERFJ8ctse6kJZttGLe2KhlZ8llGGa1JC0M+DTz8SkWWK8HXBzORgrEoz/mzbqKW9dEcB9IqC+WM5yyYiy7ZwQgw6dXos31Vo1PcxWmlXNbZh9d4SXDU0mCv5EZHFi/R1weWDgrAqrRj12g6jvY/RSvu9nQXQ6RUsGM81RojIOiwYH4OWDh0+2F1ktPcwSmnXNLdjVXoxZiQHIdyHu9IQkXWID3TDpMQArPi5CM3txtm53Sil/f6uQrR36TnLJiKrs2B8DBpaO/FxWrFRjm/w0q7XduCjPUW4fFAQov1cDX14IiKzlhzqiUtifLFsVyHaOnUGP77BS3vlnmK0dOiwYDzvGCEi67RgfAxqmtvxaUapwY9t0NLWdnThg92FmJjgj4RAd0MemohINUZGeWNYuBeW7ihAp05v0GMbtLQ/2VuKOm0n7uYsm4ismBACC8fHoLy+FV8eLDfosQ1W2h1dery/qwCpEd4YFu5tqMMSEanSuHg/DAhyx5Lt+dDpFYMd12Clvf5QOU42tGE+Z9lERBBCYMH4GBTUtGDz0QqDHdcgpa3v2eCyfz93jIvzM8QhiYhUb+qAQET7ueDtbflQFMPMtg1S2luyKpFf3YL546IhhDDEIYmIVM/GRmD+uBgcr2jE1uwqwxyzrwdQFAXvbs9DuI8zpiUFGiITEZHFmJEchGBPJywx0AbAfS7tn/NrcbisAXeOiYbG1qSbuxMRmT07WxvcPjoS+4rqkFF0us/H63PLvrs9H35uDrhqaHCfwxARWaLrhofCy9nOILPtPpV2a4cOP+XV4PZLIuFoZ9vnMERElsjZXoObL47AD8erkFvZ1Kdj9am0q5vb4e6owfUjwvoUgojI0t18UQSc7Gz7PNvuU2k3tHbiposi4OZo16cQRESWzsvFHrNTQ7Hh0Mk+HadPpS0EcMuoiD4FICKyFrePjurzMURfbvgWQjQByOlzCsvgC6BGdggzwbE4g2NxBsfijHhFUdwu5As1fXzjHEVRUvp4DIsghMjgWHTjWJzBsTiDY3GGECLjQr+WN1YTEakIS5uISEX6WtrvGSSFZeBYnMGxOINjcQbH4owLHos+XYgkIiLT4ukRIiIV6VVpCyGmCiFyhBB5QoiH/+DzDkKItT2fTxdCRBg6qLnoxVjcJ4TIEkJkCiHJGMWxAAADm0lEQVR+FEKEy8hpCucai9+87hohhCKEsNg7B3ozFkKIa3u+N44JIVabOqOp9OJnJEwIsU0IcbDn52SajJzGJoT4rxCiSghx9CyfF0KIN3rGKVMIMbRXB1YU5U//A2ALIB9AFAB7AIcBJP7uNXcDWNLz8WwAa891XDX+18uxGA/Auefj+dY8Fj2vcwOwE0AagBTZuSV+X8QCOAjAq+fP/rJzSxyL9wDM7/k4EUCR7NxGGosxAIYCOHqWz08DsBmAADASQHpvjtubmXYqgDxFUQoURekA8AmAGb97zQwAH/Z8/DmAicIyd0M451goirJNURRtzx/TAISYOKOp9Ob7AgCeBfAigDZThjOx3ozFPABvK4pSBwCKohhmRXzz05uxUAC493zsAaBvz3WbKUVRdgL4s7VYZwBYqXRLA+AphOh3ruP2prSDAZT+5s9lPX/3h69RFKULQAMAn14cW216Mxa/dRu6/yW1ROccCyHEEAChiqJsNGUwCXrzfREHIE4IsVsIkSaEmGqydKbVm7H4J4C5QogyAN8AuMc00czO+fYJgN49EflHM+bf33LSm9dYgl7/fwoh5gJIATDWqInk+dOxEELYAHgVwF9NFUii3nxfaNB9imQcun/72iWESFIUpd7I2UytN2MxB8AKRVFeFkJcBOCjnrHQGz+eWbmg3uzNTLsMQOhv/hyC///rzK+vEUJo0P0rT9+3aDA/vRkLCCH+AuAxAFcoitJuomymdq6xcAOQBGC7EKII3efsNljoxcje/oysVxSlU1GUQnSv2RNronym1JuxuA3ApwCgKMoeAI7oXpfE2vSqT36vN6W9D0CsECJSCGGP7guNG373mg0Abu75+BoAW5WeM+0W5pxj0XNKYCm6C9tSz1sC5xgLRVEaFEXxVRQlQlGUCHSf379CUZQLXnPBjPXmZ+QrdF+khhDCF92nSwpMmtI0ejMWJQAmAoAQoj+6S7vapCnNwwYAN/XcRTISQIOiKBXn/KpeXgWdBiAX3VeFH+v5u2fQ/UMIdA/6ZwDyAOwFECX7yq0Rrwifayx+AFAJ4FDPfxtkZ5Y1Fr977XZY6N0jvfy+EABeAZAF4AiA2bIzSxyLRAC70X1nySEAk2VnNtI4rAFQAaAT3bPq2wDcBeCu33xPvN0zTkd6+/PBJyKJiFSET0QSEakIS5uISEVY2kREKsLSJiJSEZY2EZGKsLSJiFSEpU1EpCIsbSIiFfk/ZT810yfUYgIAAAAASUVORK5CYII=\\n'}, 'metadata': {}},)))), Output(layout=Layout(border='1px solid green'), outputs=({'output_type': 'stream', 'text': 'Mean: 0.5\\nVariance: 0.05\\nSt. Dev: 0.2236\\n', 'name': 'stdout'},))))"
      ]
     },
     "metadata": {},
     "output_type": "display_data"
    }
   ],
   "source": [
    "display(HBox([beta_graph_and_controls, beta_out]))"
   ]
  },
  {
   "cell_type": "markdown",
   "metadata": {},
   "source": [
    "3. Compute the posterior based on the observed data. Let S denote the number of successes.\n",
    "    - We have the following:\n",
    "$$\\text P (S| p = y) = \\binom{100}{S} y^{S} (1-y)^{100-S}$$\n",
    "\n",
    "$$\\text P (p | \\alpha, \\beta)  = \\frac{p^{\\alpha-1} (1-p)^{\\beta-1}}{\\text B (\\alpha, \\beta)}, \\text{ where}$$\n",
    "\n",
    "$$\\text B (\\alpha, \\beta) =  \\int _0^1 t^{\\alpha-1} (1-t)^{\\beta-1} dt$$\n",
    "\n",
    "Then, we compute the posterior as follows:\n",
    "\n",
    "\n",
    "$$\\begin{align*} \n",
    "\\text{P}(\\theta \\: | \\: X, \\alpha, \\beta) &= \\frac {\\text{P} (X|p)  \\text{P}(p|\\alpha, \\beta)}{\\text{P}(X|\\alpha, \\beta)} \\\\\\:\\\\\n",
    "&=\\frac{(\\binom{100}{s} y^{S} (1-y)^{100-s} )(\\frac{y^{\\alpha-1} (1-y)^{\\beta-1}}{\\text B (\\alpha, \\beta)})}\n",
    "{\\int ^ 1  _0 ((\\binom{100}{s} y^{s} (1-y)^{100-s} )(\\frac{p^{\\alpha-1} (1-p)^{\\beta-1}}{\\text B (\\alpha, \\beta)})) dt}\n",
    "\\\\ \\:\\\\\n",
    "&=\\frac{(\\binom{n}{s} y^{s+\\alpha-1} (1-y)^{100-s-\\beta-1} )/\\text B (\\alpha, \\beta))}\n",
    "{\\int ^ 1  _0 (\\binom{n}{s} y^{S+\\alpha-1} (1-y)^{100-s-\\beta-1} )/\\text B (\\alpha, \\beta)) dt} \\\\ \\:\\\\\n",
    "&= \\frac{\\binom{100}{S} y^{s+\\alpha-1} (1-y)^{100-s-\\beta-1}}\n",
    "{\\text B (\\alpha+s, \\beta+(n-s)) dt}\n",
    "\\end{align*}$$\n",
    "\n",
    "It turns out that our posterior is another Beta distribution! This time, it is parameterized as\n",
    "\n",
    "$$ \\text{Beta}(\\alpha + s, \\beta + n-s) $$\n",
    "\n",
    "\n",
    "Using our observed values of $s=67$ and a prior of Beta(5,5), we obtain a posterior distributed as\n",
    "\n",
    "$$\\text{Beta}(72, 38)$$"
   ]
  },
  {
   "cell_type": "markdown",
   "metadata": {},
   "source": [
    "## Conjugate Priors"
   ]
  },
  {
   "cell_type": "markdown",
   "metadata": {},
   "source": [
    "In the last example, we specified a well-known distribution for our likelihood (Binomial) and for our prior (Beta). When we computed the posterior distribution, we obtained another Beta distribution with a new set of parameters. Maybe unsurprisingly, this is a desirable property. Potentially less obvious is that it is very rare in general. \n",
    "\n",
    "If the likelihood function $\\text P (X | \\theta, \\alpha) $  and prior distribution $ \\text P ( \\theta | \\alpha)$ produce a posterior distribution $ \\text P (\\theta | X, \\alpha) $ from the same family as the prior, then $ \\text P ( \\theta | \\alpha) $ is said to be a **conjugate prior** for $\\text P (X | \\theta, \\alpha)$. Working with a conjugate prior can be advantageous because:\n",
    "\n",
    "1. Computationally tractable: in many cases it is impossible to obtain a closed form solution for the density of the posterior distribution. Historically, this made Bayesian analysis without the use conjugate priors very difficult and at times impossible.\n",
    "2. Interpretable: with conjugate priors, the updates to the model's hyperparameters have clear relationships that can provide insight to the relationship between observed data and model updates.\n",
    "\n",
    "There are a number of known likelihood functions with conjugate priors, but two common examples are:\n",
    "\n",
    "1. Beta(prior)-Binomial(likelihood)\n",
    "2. Normal-Normal"
   ]
  },
  {
   "cell_type": "markdown",
   "metadata": {},
   "source": [
    "### Working without conjugate priors\n",
    "\n",
    "Advancements in numerical, computational methods have relaxed the dependency on conjugate pairs. Approximating posterior distributions has been the subject of much research in recent decades, and these methods offer much greater flexibility compared to using conjugate pairs.\n",
    "\n",
    "\n",
    "#### A broad explanation of MCMC\n",
    "\n",
    "Once again, let's recall the statement of Bayes' Rule we use in Bayesian inference:\n",
    "$$ \\text{P}(\\theta \\: | \\: X, \\alpha) = \\frac {\\text{P} (X|\\theta, \\alpha)  \\text{P}(\\theta|\\alpha)}{\\text{P}(X|\\alpha)}$$\n",
    "\n",
    "In general, the term that is the most problematic to compute is the denominator, $ \\text P (X | \\alpha)$. In expanding this term, we see that \n",
    "\n",
    "$$\\text{P}(X|\\alpha) = \\int P(X|\\theta)P(\\theta|\\alpha) d\\theta$$\n",
    "\n",
    "is the value obtained by integrating the numerator over all values of $\\theta$. Critically, though, $\\text{P}(X|\\alpha) $ does not rely on $\\theta$, i.e. it is constant with respect to $\\theta$. Essentially, this means that the denominator in this expression is used to normalize the values obtained in the numerator so as to obtain a proper probability distribution (i,e. to ensure that the posterior integrates to 1).\n",
    "\n",
    "Because $\\text{P}(X|\\alpha)$ is constant, we can write\n",
    "\n",
    "$$ \\text{P}(\\theta \\: | \\: X, \\alpha)\\propto \\text{P} (X|\\theta, \\alpha)  \\text{P}(\\theta|\\alpha)$$\n",
    "\n",
    "In other words, we can use the value of the likelihood times the prior probability to compute the relative probabilities between any particular values of the posterior distribution. We can, in turn, use this to generate sample values of $\\theta$ with frequencies that approximate the density of the posterior. \n",
    "\n",
    "This is often done using **Markov Chain Monte Carlo** (MCMC) algorithms. A Markov Chain can be thought of as a probabilistic machine, which proceeds through a number of steps and transititions between a set of states randomly at each step. The probability of transitioning to a given state is based only on the current state. In other words, the probability of obtaining any value at a certain step in the chain is determined only by the previous step in the chain.\n",
    "\n",
    "Some examples of popular MCMC algorithms are given below:\n",
    "1. Metropolis-Hastings\n",
    "2. Gibbs Sampling\n",
    "\n",
    "Another algorithm that has gained popularity in the last few years is the **No U-Turn Sampler** (NUTS). This is techincally a Hamiltonian Monte Carlo (HMC) algorithm as opposed to a Markov Chain Monte Carlo algorithm. The basic idea here is that the steps in an HMC are determined in a manner based on simulating a physical system. \n",
    "\n",
    "For now, it's more helpful to focus on interpreting the results of an MCMC algorithm, because in practice we will use software libraries to implement the MCMC processes themselves. However, let's look at a brief and general overview of how the Metropolis-Hastings algorithm works, which will motivate an investigation into how we use these types of algorithms.\n",
    "\n",
    "#### Metropolis-Hastings\n",
    "\n",
    "1. Choose a starting value for $\\theta$, $\\theta_0$ and compute $\\text P(X|\\theta_0)P(\\theta_0|\\alpha)$\n",
    "2. Based on some specified **candidate distribution**, generate a new value $\\theta_c$ and again compute $\\text P(X|\\theta_c)P(\\theta_c|\\alpha)$.\n",
    "3. Consider the value \n",
    "$$\\rho = \\frac {\\text P(X|\\theta_c) \\text P (\\theta_c | \\alpha)}{\\text P(X|\\theta_0) \\text P (\\theta_0 | \\alpha)}$$\n",
    "\n",
    "If $\\rho > 1$, we \"accept\" $\\theta_1$, meaning we essentially append it to a running list of $\\theta$ values. \n",
    "If $\\rho < 1$, we may or may not accept it. In this case, we generate a value $u$ from a Uniform(0,1) distribution, and if $\\rho > u$, we accept $\\theta_c.\n",
    "\n",
    "If we reject $\\theta_c$, then we let $\\theta_1 = \\theta_0$. If we accept it, then we let $\\theta_1 = \\theta_c$\n",
    "\n",
    "4. Repeat steps 2 and 3 a specified number of times. \n",
    "5. At the end of the process we have a sequence of $\\theta$ values. Our claim is that considering some subset of these values will give us a good approximate of the posterior density. Why is this?\n",
    "    - We used the candidate distribution to \"walk\" around possible $\\theta$ values. While doing so, we were more likely to accept values of $\\theta$ where $\\theta$ was very likely, i.e. in high density areas of the posterior distribution. We still accepted some values where $\\theta$ was less likely than the previous choice, allowing us to still venture into lower density areas.\n",
    "    - Not all values of $\\theta$ in our sequence are useful to us. Since we started at a (for the sake of our explanation) arbitrary point for $\\theta_0$, we're going to assume that it took a while for the Markov Chain to \"walk\" into a high density region of the posterior. As a result, we throw away some number of starting values. This is called \"burn-in\" or \"warm up\". \n",
    "    \n",
    "    - Moreover, since we repeat values of $\\theta_i$ with some frequency, we're dealing with a lot of *autocorrelation*. As a result, after taking out the burn-in samples, we sometimes choose to only keep every other (or *k*th) sample.\n",
    "        - In recent years, thinning has become less popular. Consider the following: let's say we wanted to generate a chain of 50,000 $\\theta$ values, but to reduce autocorrelation we only keep every 4th sample. This means we had to generate 200,000 values in the first place. In some cases, then, the effect of discarding values may negatively impact performance more than the effect of autocorrelation."
   ]
  },
  {
   "cell_type": "markdown",
   "metadata": {},
   "source": [
    "## The PyMC3 Library\n",
    "\n",
    "There are a number of ways to implement MCMC based Bayesian inference in Python. My recommendation is the library pymc3, which uses cutting edge fitting algorithms (by default the No U-Turn Sampler (NUTS) algorithm) to improve fitting performance and a Theano backend to further speed up computations."
   ]
  },
  {
   "cell_type": "code",
   "execution_count": 6,
   "metadata": {
    "scrolled": true
   },
   "outputs": [
    {
     "name": "stderr",
     "output_type": "stream",
     "text": [
      "WARNING (theano.configdefaults): install mkl with `conda install mkl-service`: No module named 'mkl'\n"
     ]
    }
   ],
   "source": [
    "import pymc3 as pm"
   ]
  },
  {
   "cell_type": "code",
   "execution_count": 58,
   "metadata": {
    "scrolled": true
   },
   "outputs": [
    {
     "name": "stderr",
     "output_type": "stream",
     "text": [
      "Auto-assigning NUTS sampler...\n",
      "Initializing NUTS using jitter+adapt_diag...\n",
      "Multiprocess sampling (4 chains in 4 jobs)\n",
      "NUTS: [p]\n",
      "Sampling 4 chains: 100%|██████████| 22000/22000 [00:04<00:00, 5107.96draws/s]\n",
      "Auto-assigning NUTS sampler...\n",
      "Initializing NUTS using jitter+adapt_diag...\n",
      "Multiprocess sampling (4 chains in 4 jobs)\n",
      "NUTS: [p]\n",
      "Sampling 4 chains: 100%|██████████| 22000/22000 [00:03<00:00, 6149.47draws/s]\n",
      "The acceptance probability does not match the target. It is 0.8828752916788093, but should be close to 0.8. Try to increase the number of tuning steps.\n"
     ]
    }
   ],
   "source": [
    "niter = 5000\n",
    "with pm.Model() as coin_context:\n",
    "    p = pm.Beta('p', alpha=5, beta=5)\n",
    "    y = pm.Binomial('y', n=100, p=p, observed=67)\n",
    "    trace = pm.sample(niter)\n",
    "with coin_context:\n",
    "    trace = pm.sample(niter, njobs=4, random_seed=123)"
   ]
  },
  {
   "cell_type": "markdown",
   "metadata": {},
   "source": [
    "## Trace plots\n",
    "\n",
    "After running an MCMC (or HMC), we generally want to start by looking at a plot of the approximated posterior distribution as well as a **trace plot**. The trace plot is a plot of the chain of values we obtained for each model parameter. Trace plots are particularly useful for identifying the dynamics of the fitting process. For instance, if the beginning of the plot has a lot of vertical motion before settling to a more stable series of values, this can signify that the algorithm had not yet reached a stable or stationary point yet. In this case, it is desirable to discard values as burn-in. "
   ]
  },
  {
   "cell_type": "code",
   "execution_count": 90,
   "metadata": {},
   "outputs": [
    {
     "data": {
      "text/plain": [
       "array([[<matplotlib.axes._subplots.AxesSubplot object at 0x7f1627aa3b00>,\n",
       "        <matplotlib.axes._subplots.AxesSubplot object at 0x7f1627aa56d8>]],\n",
       "      dtype=object)"
      ]
     },
     "execution_count": 90,
     "metadata": {},
     "output_type": "execute_result"
    },
    {
     "data": {
      "image/png": "[encoded data removed]",
      "text/plain": [
       "<Figure size 864x144 with 2 Axes>"
      ]
     },
     "metadata": {},
     "output_type": "display_data"
    }
   ],
   "source": [
    "# Generate a trace plot, use the first 1000 samples as burn-in\n",
    "pm.traceplot(trace[1000:], priors = [pm.Beta.dist(alpha=10, beta=10)])"
   ]
  },
  {
   "cell_type": "markdown",
   "metadata": {},
   "source": [
    "### Text Summary\n",
    "\n",
    "pymc3 also allows us to summarize the trace in a table, which is conveniently formatted as an HTML table for us in Jupyter! Let's compare the mean and standard deviation of our approximated posterior to those of the analytically computed one. "
   ]
  },
  {
   "cell_type": "code",
   "execution_count": 91,
   "metadata": {
    "scrolled": true
   },
   "outputs": [
    {
     "data": {
      "text/html": [
       "<div>\n",
       "<style scoped>\n",
       "    .dataframe tbody tr th:only-of-type {\n",
       "        vertical-align: middle;\n",
       "    }\n",
       "\n",
       "    .dataframe tbody tr th {\n",
       "        vertical-align: top;\n",
       "    }\n",
       "\n",
       "    .dataframe thead th {\n",
       "        text-align: right;\n",
       "    }\n",
       "</style>\n",
       "<table border=\"1\" class=\"dataframe\">\n",
       "  <thead>\n",
       "    <tr style=\"text-align: right;\">\n",
       "      <th></th>\n",
       "      <th>mean</th>\n",
       "      <th>sd</th>\n",
       "      <th>mc_error</th>\n",
       "      <th>hpd_2.5</th>\n",
       "      <th>hpd_97.5</th>\n",
       "      <th>n_eff</th>\n",
       "      <th>Rhat</th>\n",
       "    </tr>\n",
       "  </thead>\n",
       "  <tbody>\n",
       "    <tr>\n",
       "      <th>p</th>\n",
       "      <td>0.6545</td>\n",
       "      <td>0.0451</td>\n",
       "      <td>0.0005</td>\n",
       "      <td>0.5667</td>\n",
       "      <td>0.7433</td>\n",
       "      <td>8224.3422</td>\n",
       "      <td>1.0</td>\n",
       "    </tr>\n",
       "  </tbody>\n",
       "</table>\n",
       "</div>"
      ],
      "text/plain": [
       "     mean      sd  mc_error  hpd_2.5  hpd_97.5      n_eff  Rhat\n",
       "p  0.6545  0.0451    0.0005   0.5667    0.7433  8224.3422   1.0"
      ]
     },
     "execution_count": 91,
     "metadata": {},
     "output_type": "execute_result"
    }
   ],
   "source": [
    "pm.summary(trace).round(4)"
   ]
  },
  {
   "cell_type": "markdown",
   "metadata": {},
   "source": [
    "# Bayesian Hypothesis Testing"
   ]
  },
  {
   "cell_type": "markdown",
   "metadata": {},
   "source": [
    " ### A Bayesian t-test \n",
    " \n",
    " \n",
    "Bayesian inference is a powerful framework for predictive modeling, because it offers a greater degree of control as compared to frequentist inference. A Bayesian approach can also be extended to hypothesis testing. \n",
    "\n",
    "A detailed explanation is beyond the scope of this lecture, but I want to direct the listener toward a discussion of Bayesian t-testing and its implementation in the R package **Bayesian First Aid** as an introduction to testing in the Bayesian framework. \n",
    "\n",
    "\n",
    "http://www.sumsar.net/blog/2014/02/bayesian-first-aid-one-sample-t-test/\n",
    "\n",
    "https://github.com/rasmusab/bayesian_first_aid"
   ]
  },
  {
   "cell_type": "markdown",
   "metadata": {},
   "source": [
    "# Plots"
   ]
  },
  {
   "cell_type": "code",
   "execution_count": 2,
   "metadata": {},
   "outputs": [],
   "source": [
    "# Library\n",
    "from matplotlib import pyplot as plt\n",
    "import numpy as np\n",
    "import matplotlib.pyplot as plt\n",
    "from matplotlib import pyplot as plt\n",
    "import numpy as np\n",
    "from matplotlib.gridspec import GridSpec\n",
    "from ipywidgets import IntSlider, FloatSlider, interact, Output, HBox, interactive_output, Checkbox, VBox\n",
    "\n",
    "# use plt.Axes(figure, [left, bottom, width, height])\n",
    "# where each value in the frame is between 0 and 1\n",
    "\n",
    "# left\n",
    "def show_cond_plot():\n",
    "    outp = Output(layout={'border':'2px solid ', 'width':'200px'})\n",
    "    p_a = 0.4\n",
    "    p_b = 0.25\n",
    "    p_ab = 0.1\n",
    "    def cond_plot3(p_a, p_b, p_ab):\n",
    "        x = np.linspace(0, 1, 101)\n",
    "        figure = plt.figure(figsize=(10,3))\n",
    "\n",
    "        outp.clear_output(wait=True)\n",
    "        with outp:\n",
    "            print(\"Probabilities\")\n",
    "            print(\"\\n\\n\\n\\nP(A) =  {}\".format(p_a))\n",
    "            print(\"P(B) =  {}\".format(p_b))\n",
    "            print(\"P(AB) = {}\".format(p_ab))\n",
    "            print(\"\\n\\n\\n\\nP(B|A) = P(AB)/P(A)\".format(round(p_ab/ p_a, 5)))\n",
    "            print(\"       = {}\".format(round(p_ab/ p_a, 5)))\n",
    "            print(\"\\n\\n\\n\\n\\n\\nP(A|B) = P(AB)/P(B)\")\n",
    "            print(\"       = {}\".format(round(p_ab / p_b, 5)))\n",
    "\n",
    "        #Overall\n",
    "        ax1 = plt.Axes(figure, [0, 1.2, 1, .5])\n",
    "        figure.add_axes(ax1)\n",
    "        ax1.set_title(\"Overall Probabilities\", fontsize = 14)\n",
    "\n",
    "        plt.fill_between(x, 1, where=x<=p_a, alpha = 0.5, color='red')\n",
    "        plt.fill_between(x+p_a-p_ab, 1, where=x<=p_b, alpha = 0.5, color='blue')\n",
    "        plt.legend(['P(A)','P(B)'], fontsize = 24, loc=\"upper left\", bbox_to_anchor=(1,1))\n",
    "        plt.xlim(0,1)\n",
    "        plt.ylim(0,1)\n",
    "        frame = plt.gca()\n",
    "        frame.get_xaxis().set_visible(False)\n",
    "        frame.get_yaxis().set_visible(False)\n",
    "\n",
    "        # Conditioned on p_a\n",
    "        ax2 = plt.Axes(figure, [0, .6, p_a, .5])\n",
    "        figure.add_axes(ax2)\n",
    "        ax2.set_title(\"After Conditioning on A\", fontsize = 14)\n",
    "\n",
    "        plt.fill_between(x, 1, where=x<=p_a, alpha = 0, color='red')\n",
    "        plt.fill_between(x+p_a-p_ab, 1, where=x<=p_b, alpha = 0.5, color='blue')\n",
    "        plt.xlim(0,p_a)\n",
    "        plt.ylim(0,1)\n",
    "        frame = plt.gca()\n",
    "        frame.get_xaxis().set_visible(False)\n",
    "        frame.get_yaxis().set_visible(False)\n",
    "\n",
    "\n",
    "        # Conditioned on p_b\n",
    "        ax3= plt.Axes(figure, [p_a-p_ab, 0, p_b, 0.5])\n",
    "        figure.add_axes(ax3)\n",
    "        ax3.set_title(\"After Conditioning on B\", fontsize = 14)\n",
    "        plt.fill_between(x, 1, where=x<=p_a, alpha = 0.5, color = 'red')\n",
    "\n",
    "        plt.fill_between(x+p_a-p_ab, 1, where=x<=p_b, alpha = 0, color='blue')\n",
    "\n",
    "        plt.xlim(p_a-p_ab,p_a+p_b-p_ab)\n",
    "        plt.ylim(0,1)\n",
    "        frame = plt.gca()\n",
    "        frame.get_xaxis().set_visible(False)\n",
    "        frame.get_yaxis().set_visible(False)\n",
    "\n",
    "        plt.show()\n",
    "\n",
    "    pa = FloatSlider(value = 0.4, \n",
    "                     min = 0.2, \n",
    "                     max = 0.5, \n",
    "                     step=0.01,\n",
    "                     description = 'P(A)',\n",
    "                     layout={'width': '300px'},\n",
    "                     continuous_update = False)\n",
    "    pb = FloatSlider(value = 0.25, \n",
    "                     min = 0.2, \n",
    "                     max = 0.5, \n",
    "                     step=0.01, \n",
    "                     description = 'P(B)',\n",
    "                     layout={'width': '300px'},\n",
    "                     continuous_update = False)\n",
    "    pab = FloatSlider(value = 0.2, \n",
    "                      min =0, \n",
    "                      max = 0.2, \n",
    "                      step =0.01, \n",
    "                      description = 'P(AB)',\n",
    "                      layout={'width': '300px'},\n",
    "                      continuous_update=False)\n",
    "\n",
    "    ui_cond = HBox([pa, pb, pab])\n",
    "    cond_plot_interactive = interactive_output(cond_plot3, {'p_a': pa, 'p_b':pb, 'p_ab':pab})\n",
    "    graph_and_controls = VBox([ui_cond, cond_plot_interactive])\n",
    "\n",
    "    display(HBox([outp, graph_and_controls]))"
   ]
  },
  {
   "cell_type": "code",
   "execution_count": 3,
   "metadata": {},
   "outputs": [],
   "source": [
    "from scipy.stats import beta"
   ]
  },
  {
   "cell_type": "code",
   "execution_count": 86,
   "metadata": {},
   "outputs": [],
   "source": [
    "beta_out = Output(layout={'border':'1px solid green'})\n",
    "def beta_dist_plot(a, b):\n",
    "\n",
    "    with beta_out:\n",
    "        clear_output(wait=True)\n",
    "        print(\"Mean: {}\".format(round((a/(a+b)),2)))\n",
    "        var = round( (a*b)/((a+b)**2*(a+b+1)),5)\n",
    "        print(\"Variance: {}\".format(var))\n",
    "        print(\"St. Dev: {}\".format(round(var**.5, 4)))\n",
    "    x_beta = np.linspace(0, 1, 501)\n",
    "    y = beta.pdf(x_beta, a, b)\n",
    "    fig = plt.figure()\n",
    "    plt.xlim(0,1)\n",
    "    plt.ylim(0, y.max()+.3)\n",
    "    frame = plt.gca()\n",
    "    frame.axes.get_yaxis().set_visible(False)\n",
    "    plt.plot(x_beta,y)\n",
    "    plt.show()\n",
    "    \n",
    "a_slide = IntSlider(value = 2, \n",
    "                 min = 1, \n",
    "                 max = 100, \n",
    "                 step=1, \n",
    "                 description = 'alpha',\n",
    "                 layout={'width': '300px'},\n",
    "                 continuous_update = True)\n",
    "b_slide = IntSlider(value = 2, \n",
    "                  min =1, \n",
    "                  max = 100, \n",
    "                  step =1, \n",
    "                  description = 'beta',\n",
    "                  layout={'width': '300px'},\n",
    "                  continuous_update=True)\n",
    "ui_beta = HBox([a_slide, b_slide])\n",
    "beta_plot_interactive = interactive_output(beta_dist_plot, {'a':a_slide, 'b':b_slide})\n",
    "beta_graph_and_controls = VBox([ui_beta, beta_plot_interactive])"
   ]
  },
  {
   "cell_type": "code",
   "execution_count": 105,
   "metadata": {},
   "outputs": [],
   "source": [
    "from IPython.display import display, clear_output\n",
    "from ipywidgets import Button\n",
    "button3 = Button(description=\"Generate sample, p=0.3\", layout={'width':'300px'})\n",
    "button5 = Button(description=\"Generate sample, p=0.5\", layout={'width':'300px'})\n",
    "button8 = Button(description=\"Generate sample, p=0.8\", layout={'width':'300px'})\n",
    "\n",
    "binom_output = Output(layout={'border':'1px solid white'})\n",
    "with binom_output:\n",
    "    binom_sample_20(0)\n",
    "def on_button_clicked3(a):\n",
    "    with binom_output:\n",
    "        clear_output(wait=True)\n",
    "        binom_sample_20(0.3)\n",
    "        \n",
    "def on_button_clicked5(a):\n",
    "    with binom_output:\n",
    "        clear_output(wait=True)\n",
    "        binom_sample_20(0.5)\n",
    "        \n",
    "def on_button_clicked8(a):\n",
    "    with binom_output:\n",
    "        clear_output(wait=True)\n",
    "        binom_sample_20(0.8)\n",
    "    \n",
    "button3.on_click(on_button_clicked3)\n",
    "button5.on_click(on_button_clicked5)\n",
    "button8.on_click(on_button_clicked8)\n",
    "\n",
    "def binom_sample_20(p):\n",
    "    fig = plt.figure(figsize=(5,5))\n",
    "    plt.xlim(0.5, 4.5)\n",
    "    plt.ylim(0.5, 5.5)\n",
    "    count=0\n",
    "    sample = random.binomial(size=20, n=1, p=p)\n",
    "    for i in range(4):\n",
    "        for j in range(5):\n",
    "            if sample[count]:\n",
    "                plt.plot(i+1,j+1,'ko', markersize = 20)\n",
    "            else:\n",
    "                plt.plot(i+1, j+1, 'wo-', markersize = 20, linewidth = 10, markeredgecolor= 'black')\n",
    "            count+=1\n",
    "    frame = plt.gca()\n",
    "    frame.axes.get_xaxis().set_visible(False)\n",
    "    frame.axes.get_yaxis().set_visible(False)\n",
    "    plt.show()\n",
    "\n",
    "\n",
    "p_slide = FloatSlider(value = 0.5, \n",
    "    min =0, \n",
    "    max = 1, \n",
    "    step =0.01, \n",
    "    description = 'p',\n",
    "    layout={'width': '300px'},\n",
    "    continuous_update=False)\n",
    "binom_sample_interactive = interactive_output(binom_sample_20, {'p':p_slide})"
   ]
  },
  {
   "cell_type": "code",
   "execution_count": null,
   "metadata": {},
   "outputs": [],
   "source": []
  }
 ],
 "metadata": {
  "kernelspec": {
   "display_name": "Python 3",
   "language": "python",
   "name": "python3"
  },
  "language_info": {
   "codemirror_mode": {
    "name": "ipython",
    "version": 3
   },
   "file_extension": ".py",
   "mimetype": "text/x-python",
   "name": "python",
   "nbconvert_exporter": "python",
   "pygments_lexer": "ipython3",
   "version": "3.6.2"
  }
 },
 "nbformat": 4,
 "nbformat_minor": 2
}
